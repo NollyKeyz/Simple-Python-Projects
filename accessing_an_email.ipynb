{
  "nbformat": 4,
  "nbformat_minor": 0,
  "metadata": {
    "colab": {
      "provenance": [],
      "gpuType": "T4",
      "authorship_tag": "ABX9TyM68dL5Gnmol5SWxaZL6iTY",
      "include_colab_link": true
    },
    "kernelspec": {
      "name": "python3",
      "display_name": "Python 3"
    },
    "language_info": {
      "name": "python"
    },
    "accelerator": "GPU"
  },
  "cells": [
    {
      "cell_type": "markdown",
      "metadata": {
        "id": "view-in-github",
        "colab_type": "text"
      },
      "source": [
        "<a href=\"https://colab.research.google.com/github/NollyKeyz/Simple-Python-Projects/blob/main/accessing_an_email.ipynb\" target=\"_parent\"><img src=\"https://colab.research.google.com/assets/colab-badge.svg\" alt=\"Open In Colab\"/></a>"
      ]
    },
    {
      "cell_type": "markdown",
      "source": [],
      "metadata": {
        "id": "gKgpY7mFg7Pt"
      }
    },
    {
      "cell_type": "markdown",
      "metadata": {
        "id": "b10VWEoaMI4V"
      },
      "source": [
        "For the next line, it is required that you enter details of the email for which the classification should take place. Know that for security reasons, the password cannot be your regular password but has to be a password generated for this purpose. This can be generated using the following process(for gmail but applicable to most email);\n",
        "\n",
        "1. Login to your email account in a browser\n",
        "2. Click on your profile icon\n",
        "3. Select Manage your Google Account\n",
        "4. Click on the security tab under Google Account (On the left hand side)\n",
        "5. In the How you sign in to Google Section, Select 2-Step Verification\n",
        "6. Set 2-Step Verification to turned on\n",
        "7. Once it is set to on, Select App passwords at the bottom of the page\n",
        "8. Set the App name and then click on create\n",
        "9. the code displayed is the required code. Copy it securely"
      ]
    },
    {
      "cell_type": "markdown",
      "source": [],
      "metadata": {
        "id": "iw2qG8p7hGxO"
      }
    },
    {
      "cell_type": "markdown",
      "metadata": {
        "id": "kYNTW6R5MUIH"
      },
      "source": [
        "### List of IMAP Servers for major email platforms\n",
        "Gmail: imap.gmail.com\n",
        "\n",
        "Yahoo Mail: imap.mail.yahoo.com\n",
        "\n",
        "AOL Mail: imap.aol.com\n",
        "\n",
        "Outlook or Hotmail: outlook.office365.com"
      ]
    },
    {
      "cell_type": "code",
      "execution_count": null,
      "metadata": {
        "id": "UdG2BMPKgxt-"
      },
      "outputs": [],
      "source": [
        "# @title Data Collection:\n",
        "\n",
        "# Use this part if you intend to try it on your own email. Use the steps stated earlier to generate your own password\n",
        "\n",
        "# Set default values for the password\n",
        "Password1 = '?'\n",
        "Password2 = '/'\n",
        "\n",
        "import getpass # the getpass allows one to enter information securely\n",
        "\n",
        "# The first while loop here prompts the user to enter the IMAP for their own emails. Major IMAPs are:\n",
        "while True:\n",
        "  if Password1 == Password2:\n",
        "    break\n",
        "  # Prompt user for input\n",
        "  email_IMAP = input('Enter email IMAP (e.g., imap.gmail.com for Gmail): ')\n",
        "\n",
        "  while True:\n",
        "    Response1 = (input('kindly confirm that the email IMAP  ' + email_IMAP + ' is correct by keying YES or NO\\n').upper())\n",
        "\n",
        "    if Response1 == 'YES':\n",
        "      e_mail = input('Enter your email address: ')\n",
        "\n",
        "      while True:\n",
        "        Response2 = (input('kindly confirm that the email ' + e_mail + ' is correct by keying YES or NO\\n').upper())\n",
        "\n",
        "        if Response2 == 'YES':\n",
        "          while True:\n",
        "            Password1 = getpass.getpass(prompt='Enter your password (application specific): ')\n",
        "            Password2 = getpass.getpass(prompt='Enter the password again: ')\n",
        "\n",
        "            if Password1 == Password2:\n",
        "              print('The email IMAP you entered is ' + email_IMAP)\n",
        "              print('The email you entered is ' + e_mail)\n",
        "              print('you entered a matching password')\n",
        "              break\n",
        "            else:\n",
        "              print('Your password do not match; you need to enter your password again')\n",
        "          break\n",
        "        elif Response2 == 'NO':\n",
        "          print('re-enter your email')\n",
        "          e_mail = input('Enter your email address: ')\n",
        "        else:\n",
        "          print('You have entered an invalid response; Enter either YES or NO')\n",
        "      break\n",
        "    elif Response1 == 'NO':\n",
        "      print('re-enter your email IMAP ')\n",
        "      break\n",
        "    else:\n",
        "      print('Enter either YES or NO')"
      ]
    },
    {
      "cell_type": "code",
      "execution_count": null,
      "metadata": {
        "id": "enLwZ3eAM3Cv"
      },
      "outputs": [],
      "source": [
        "import imaplib #the imaplib is used to connect to the email imap\n",
        "import email #used exclusively for email data\n",
        "\n",
        "url = \"Inbox\"\n",
        "\n",
        "def access_inbox(Email, Password):\n",
        "\n",
        "  # Connect to the Gmail IMAP server using SSL\n",
        "  mail = imaplib.IMAP4_SSL(email_IMAP)\n",
        "\n",
        "  # Login to your Gmail account using the application-specific password\n",
        "  mail.login(e_mail, Password1)\n",
        "\n",
        "\n",
        "  status, _ = mail.select(url)\n",
        "\n",
        "  email_labels = []\n",
        "  email_bodies = []\n",
        "  email_senders = []\n",
        "  email_subjects = []\n",
        "\n",
        "  if status == 'OK':\n",
        "    print(\"Successfully accessed the folder.\")\n",
        "    # Search for emails in the spam folder\n",
        "    result, data = mail.search(None, 'ALL')\n",
        "    if result == 'OK':\n",
        "      uids = data[0].split()\n",
        "\n",
        "      # Fetch and process emails using the retrieved UIDs\n",
        "      for uid in uids[:6000]:\n",
        "        result, email_data = mail.fetch(uid, '(RFC822)')\n",
        "\n",
        "        # Process the raw email data\n",
        "        email_message = email.message_from_bytes(email_data[0][1])\n",
        "\n",
        "        subject = str(email_message['Subject'])\n",
        "        sender = str(email_message['From'])\n",
        "\n",
        "        body = \"\"\n",
        "        if email_message.is_multipart():\n",
        "          for part in email_message.walk():\n",
        "              content_type = part.get_content_type()\n",
        "              content_disposition = str(part.get(\"Content-Disposition\"))\n",
        "\n",
        "              # Filter text/plain parts and attachments\n",
        "              if 'text/plain' in content_type and \"attachment\" not in content_disposition:\n",
        "                payload = part.get_payload(decode=True)\n",
        "                if payload is not None:\n",
        "                  try:\n",
        "                    body += payload.decode('utf-8')\n",
        "                  except UnicodeDecodeError:\n",
        "                    body += str(payload)\n",
        "        else:\n",
        "          payload = email_message.get_payload(decode=True)\n",
        "          if payload is not None:\n",
        "            try:\n",
        "              body = payload.decode('utf-8')\n",
        "            except UnicodeDecodeError:\n",
        "              body = str(payload)\n",
        "\n",
        "\n",
        "\n",
        "        print(uid)\n",
        "        print(subject)\n",
        "        print(sender)\n",
        "        print(body)\n",
        "        print('-' * 100)\n",
        "\n",
        "        # Append the extracted information to the list\n",
        "        email_labels.append(uid)\n",
        "        email_bodies.append(body)\n",
        "        email_senders.append(sender)\n",
        "        email_subjects.append(subject)\n",
        "\n",
        "\n",
        "\n",
        "\n",
        "  return email_labels, email_subjects, email_bodies\n",
        "\n",
        "\n",
        "  # Logout from the IMAP server\n",
        "  mail.logout()\n",
        "labels, subjects, bodies = access_inbox(e_mail, Password1)\n"
      ]
    },
    {
      "cell_type": "code",
      "execution_count": null,
      "metadata": {
        "id": "JN2ITfVHUn-E",
        "colab": {
          "base_uri": "https://localhost:8080/"
        },
        "outputId": "ee955244-eec3-4375-f342-02d572103b63"
      },
      "outputs": [
        {
          "output_type": "stream",
          "name": "stdout",
          "text": [
            "CSV file exported successfully.\n",
            "           Label                                            Subject  \\\n",
            "b'1'        b'1'  @knowledgemwilli, check out the notifications ...   \n",
            "b'2'        b'2'    Nollyedge, see who you already know on LinkedIn   \n",
            "b'3'        b'3'  Haitian Crown Jewels shared \"How a Sneaky Furn...   \n",
            "b'4'        b'4'  Nollyedge, you have 1 new update and 2 invitat...   \n",
            "b'5'        b'5'            GeNS Transaction Alert [Debit: 100.00 ]   \n",
            "...          ...                                                ...   \n",
            "b'5996'  b'5996'  @knowledgemwilli, check out the notifications ...   \n",
            "b'5997'  b'5997'        Proverb for Saturday, September 25  (25:11)   \n",
            "b'5998'  b'5998'  Fitbit Brand Day | Shop Smartwatches, Fitness ...   \n",
            "b'5999'  b'5999'                    Knowledge Williams, we miss you   \n",
            "b'6000'  b'6000'  =?UTF-8?B?8J+OgiBJdCdzIEVtbWFudWVs?=\\r\\n =?UTF...   \n",
            "\n",
            "                                                      Body  \n",
            "b'1'     Twitter \\r\\n> https://twitter.com\\r\\n\\r\\nYou'v...  \n",
            "b'2'     ------------------------------------\\r\\n\\r\\nNo...  \n",
            "b'3'     @knowledgemwilli, see what's happening in the ...  \n",
            "b'4'     Nollyedge, see what your network has been up t...  \n",
            "b'5'     \\r\\n\\r\\n\\r\\n\\r\\n  \\r\\n    \\r\\n      \\r\\n      ...  \n",
            "...                                                    ...  \n",
            "b'5996'  Twitter \\r\\n> https://twitter.com\\r\\n\\r\\nYou'v...  \n",
            "b'5997'  Proverbs 1:1 Proverbs 25:11       A word fitly...  \n",
            "b'5998'  <!doctype html><html lang=en xmlns=http://www....  \n",
            "b'5999'  \\r\\nBecome a Twitter pro\\r\\n \\r\\n\\r\\nWhen you ...  \n",
            "b'6000'  ========================================\\r\\nSe...  \n",
            "\n",
            "[6000 rows x 3 columns]\n"
          ]
        }
      ],
      "source": [
        "import pandas as pd\n",
        "\n",
        "# Assuming data is a dictionary containing your cleaned data\n",
        "data = {\n",
        "    label: {'Label': label, \"Subject\": subject, \"Body\": body}\n",
        "    for label, subject, body in zip(labels, subjects, bodies)\n",
        "}\n",
        "\n",
        "# Create a DataFrame from the cleaned data\n",
        "email_document = pd.DataFrame(data.values(), index=data.keys())\n",
        "\n",
        "# Export the DataFrame to a CSV file\n",
        "email_document.to_csv(\"email_data.csv\")\n",
        "\n",
        "print(\"CSV file exported successfully.\")\n",
        "\n",
        "print(email_document)"
      ]
    },
    {
      "cell_type": "code",
      "source": [],
      "metadata": {
        "id": "ze8izEZ09xoK"
      },
      "execution_count": null,
      "outputs": []
    }
  ]
}